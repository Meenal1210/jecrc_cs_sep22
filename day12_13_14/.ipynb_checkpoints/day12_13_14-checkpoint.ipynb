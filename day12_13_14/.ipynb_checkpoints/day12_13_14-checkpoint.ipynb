{
 "cells": [
  {
   "cell_type": "code",
   "execution_count": null,
   "metadata": {},
   "outputs": [],
   "source": []
  }
 ],
 "metadata": {
  "kernelspec": {
   "display_name": "Python 3.9.12 ('base')",
   "language": "python",
   "name": "python3"
  },
  "language_info": {
   "name": "python",
   "version": "3.9.12"
  },
  "vscode": {
   "interpreter": {
    "hash": "35810a23011c56fe4df4f25a401849766dd0523508c3c71d289c8b444d30e67b"
   }
  }
 },
 "nbformat": 4,
 "nbformat_minor": 5
}
