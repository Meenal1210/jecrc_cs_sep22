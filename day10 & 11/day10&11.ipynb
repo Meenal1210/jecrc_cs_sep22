{
 "cells": [
  {
   "cell_type": "code",
   "execution_count": 1,
   "id": "c94e033c-4680-4d2d-8370-e75c429cfebd",
   "metadata": {},
   "outputs": [],
   "source": [
    "import pandas as pd"
   ]
  },
  {
   "cell_type": "code",
   "execution_count": 2,
   "id": "8150d698-ee33-413a-9840-c1b3f62b36c9",
   "metadata": {},
   "outputs": [],
   "source": [
    "movies = pd.read_clipboard()"
   ]
  },
  {
   "cell_type": "code",
   "execution_count": 3,
   "id": "8a62a0a9-ce60-4e02-beeb-0a0f1ed57f09",
   "metadata": {},
   "outputs": [
    {
     "data": {
      "text/html": [
       "<div>\n",
       "<style scoped>\n",
       "    .dataframe tbody tr th:only-of-type {\n",
       "        vertical-align: middle;\n",
       "    }\n",
       "\n",
       "    .dataframe tbody tr th {\n",
       "        vertical-align: top;\n",
       "    }\n",
       "\n",
       "    .dataframe thead th {\n",
       "        text-align: right;\n",
       "    }\n",
       "</style>\n",
       "<table border=\"1\" class=\"dataframe\">\n",
       "  <thead>\n",
       "    <tr style=\"text-align: right;\">\n",
       "      <th></th>\n",
       "      <th>https://github.com/signup?return_to=https%3A%2F%2Fgithub.com%2Fsignup&amp;source=login</th>\n",
       "    </tr>\n",
       "  </thead>\n",
       "  <tbody>\n",
       "  </tbody>\n",
       "</table>\n",
       "</div>"
      ],
      "text/plain": [
       "Empty DataFrame\n",
       "Columns: [https://github.com/signup?return_to=https%3A%2F%2Fgithub.com%2Fsignup&source=login]\n",
       "Index: []"
      ]
     },
     "execution_count": 3,
     "metadata": {},
     "output_type": "execute_result"
    }
   ],
   "source": [
    "movies"
   ]
  },
  {
   "cell_type": "code",
   "execution_count": 4,
   "id": "785768ec-6033-4bdf-a64e-d6cf77d4e323",
   "metadata": {},
   "outputs": [],
   "source": [
    "movies = pd.read_csv(r'myMovies.csv',index_col = 0)"
   ]
  },
  {
   "cell_type": "code",
   "execution_count": 5,
   "id": "0ea232a1-a847-4a73-942b-9beba5164d16",
   "metadata": {},
   "outputs": [
    {
     "data": {
      "text/html": [
       "<div>\n",
       "<style scoped>\n",
       "    .dataframe tbody tr th:only-of-type {\n",
       "        vertical-align: middle;\n",
       "    }\n",
       "\n",
       "    .dataframe tbody tr th {\n",
       "        vertical-align: top;\n",
       "    }\n",
       "\n",
       "    .dataframe thead th {\n",
       "        text-align: right;\n",
       "    }\n",
       "</style>\n",
       "<table border=\"1\" class=\"dataframe\">\n",
       "  <thead>\n",
       "    <tr style=\"text-align: right;\">\n",
       "      <th></th>\n",
       "      <th>Name</th>\n",
       "      <th>Industry</th>\n",
       "      <th>Genre</th>\n",
       "      <th>Language</th>\n",
       "      <th>Duration</th>\n",
       "      <th>Rating</th>\n",
       "    </tr>\n",
       "    <tr>\n",
       "      <th>Id_no.</th>\n",
       "      <th></th>\n",
       "      <th></th>\n",
       "      <th></th>\n",
       "      <th></th>\n",
       "      <th></th>\n",
       "      <th></th>\n",
       "    </tr>\n",
       "  </thead>\n",
       "  <tbody>\n",
       "    <tr>\n",
       "      <th>6</th>\n",
       "      <td>Tenet</td>\n",
       "      <td>Hollywood</td>\n",
       "      <td>SciFi</td>\n",
       "      <td>English</td>\n",
       "      <td>150</td>\n",
       "      <td>8.5</td>\n",
       "    </tr>\n",
       "    <tr>\n",
       "      <th>4</th>\n",
       "      <td>DDLJ</td>\n",
       "      <td>Bollywood</td>\n",
       "      <td>Romantic</td>\n",
       "      <td>Hindi</td>\n",
       "      <td>150</td>\n",
       "      <td>10.0</td>\n",
       "    </tr>\n",
       "    <tr>\n",
       "      <th>12</th>\n",
       "      <td>Housefull</td>\n",
       "      <td>Bollywood</td>\n",
       "      <td>Drama</td>\n",
       "      <td>Hindi</td>\n",
       "      <td>150</td>\n",
       "      <td>6.0</td>\n",
       "    </tr>\n",
       "  </tbody>\n",
       "</table>\n",
       "</div>"
      ],
      "text/plain": [
       "             Name   Industry     Genre Language  Duration  Rating\n",
       "Id_no.                                                           \n",
       "6           Tenet  Hollywood     SciFi  English       150     8.5\n",
       "4            DDLJ  Bollywood  Romantic    Hindi       150    10.0\n",
       "12      Housefull  Bollywood     Drama    Hindi       150     6.0"
      ]
     },
     "execution_count": 5,
     "metadata": {},
     "output_type": "execute_result"
    }
   ],
   "source": [
    "movies.sample(3)"
   ]
  },
  {
   "cell_type": "code",
   "execution_count": 6,
   "id": "8baaf91c-b38d-4d4d-bdeb-690fd8c90d85",
   "metadata": {},
   "outputs": [
    {
     "data": {
      "text/html": [
       "<div>\n",
       "<style scoped>\n",
       "    .dataframe tbody tr th:only-of-type {\n",
       "        vertical-align: middle;\n",
       "    }\n",
       "\n",
       "    .dataframe tbody tr th {\n",
       "        vertical-align: top;\n",
       "    }\n",
       "\n",
       "    .dataframe thead th {\n",
       "        text-align: right;\n",
       "    }\n",
       "</style>\n",
       "<table border=\"1\" class=\"dataframe\">\n",
       "  <thead>\n",
       "    <tr style=\"text-align: right;\">\n",
       "      <th></th>\n",
       "      <th>Name</th>\n",
       "      <th>Industry</th>\n",
       "      <th>Genre</th>\n",
       "      <th>Language</th>\n",
       "      <th>Duration</th>\n",
       "      <th>Rating</th>\n",
       "    </tr>\n",
       "    <tr>\n",
       "      <th>Id_no.</th>\n",
       "      <th></th>\n",
       "      <th></th>\n",
       "      <th></th>\n",
       "      <th></th>\n",
       "      <th></th>\n",
       "      <th></th>\n",
       "    </tr>\n",
       "  </thead>\n",
       "  <tbody>\n",
       "    <tr>\n",
       "      <th>1</th>\n",
       "      <td>Bahubali</td>\n",
       "      <td>Tollywood</td>\n",
       "      <td>Action</td>\n",
       "      <td>Telugu</td>\n",
       "      <td>170</td>\n",
       "      <td>9.5</td>\n",
       "    </tr>\n",
       "    <tr>\n",
       "      <th>2</th>\n",
       "      <td>Brahmastra</td>\n",
       "      <td>Bollywood</td>\n",
       "      <td>Mysterious</td>\n",
       "      <td>Hindi</td>\n",
       "      <td>180</td>\n",
       "      <td>5.0</td>\n",
       "    </tr>\n",
       "    <tr>\n",
       "      <th>3</th>\n",
       "      <td>Un -The Surgical Strike</td>\n",
       "      <td>Bollywood</td>\n",
       "      <td>Action</td>\n",
       "      <td>Hindi</td>\n",
       "      <td>120</td>\n",
       "      <td>10.0</td>\n",
       "    </tr>\n",
       "    <tr>\n",
       "      <th>4</th>\n",
       "      <td>DDLJ</td>\n",
       "      <td>Bollywood</td>\n",
       "      <td>Romantic</td>\n",
       "      <td>Hindi</td>\n",
       "      <td>150</td>\n",
       "      <td>10.0</td>\n",
       "    </tr>\n",
       "    <tr>\n",
       "      <th>5</th>\n",
       "      <td>Avengers - End Game</td>\n",
       "      <td>Hollywood</td>\n",
       "      <td>Action</td>\n",
       "      <td>English</td>\n",
       "      <td>150</td>\n",
       "      <td>9.0</td>\n",
       "    </tr>\n",
       "    <tr>\n",
       "      <th>6</th>\n",
       "      <td>Tenet</td>\n",
       "      <td>Hollywood</td>\n",
       "      <td>SciFi</td>\n",
       "      <td>English</td>\n",
       "      <td>150</td>\n",
       "      <td>8.5</td>\n",
       "    </tr>\n",
       "    <tr>\n",
       "      <th>7</th>\n",
       "      <td>Major</td>\n",
       "      <td>Bollywood</td>\n",
       "      <td>Action</td>\n",
       "      <td>Hindi</td>\n",
       "      <td>140</td>\n",
       "      <td>8.0</td>\n",
       "    </tr>\n",
       "    <tr>\n",
       "      <th>8</th>\n",
       "      <td>Intersteller</td>\n",
       "      <td>Hollywood</td>\n",
       "      <td>SciFi</td>\n",
       "      <td>English</td>\n",
       "      <td>190</td>\n",
       "      <td>7.0</td>\n",
       "    </tr>\n",
       "    <tr>\n",
       "      <th>9</th>\n",
       "      <td>Gravity</td>\n",
       "      <td>Hollywood</td>\n",
       "      <td>SciFi</td>\n",
       "      <td>English</td>\n",
       "      <td>130</td>\n",
       "      <td>6.0</td>\n",
       "    </tr>\n",
       "    <tr>\n",
       "      <th>10</th>\n",
       "      <td>Titanic</td>\n",
       "      <td>Hollywood</td>\n",
       "      <td>Drama</td>\n",
       "      <td>English</td>\n",
       "      <td>180</td>\n",
       "      <td>9.0</td>\n",
       "    </tr>\n",
       "    <tr>\n",
       "      <th>11</th>\n",
       "      <td>Yeh Jawani Hai Deewani</td>\n",
       "      <td>Bollywood</td>\n",
       "      <td>Romantic</td>\n",
       "      <td>Hindi</td>\n",
       "      <td>150</td>\n",
       "      <td>5.0</td>\n",
       "    </tr>\n",
       "    <tr>\n",
       "      <th>12</th>\n",
       "      <td>Housefull</td>\n",
       "      <td>Bollywood</td>\n",
       "      <td>Drama</td>\n",
       "      <td>Hindi</td>\n",
       "      <td>150</td>\n",
       "      <td>6.0</td>\n",
       "    </tr>\n",
       "    <tr>\n",
       "      <th>13</th>\n",
       "      <td>The Dictator</td>\n",
       "      <td>Hollywood</td>\n",
       "      <td>Comedy</td>\n",
       "      <td>English</td>\n",
       "      <td>150</td>\n",
       "      <td>7.0</td>\n",
       "    </tr>\n",
       "    <tr>\n",
       "      <th>14</th>\n",
       "      <td>Hera Pheri</td>\n",
       "      <td>Bollywood</td>\n",
       "      <td>Comedy</td>\n",
       "      <td>Hindi</td>\n",
       "      <td>140</td>\n",
       "      <td>9.0</td>\n",
       "    </tr>\n",
       "    <tr>\n",
       "      <th>15</th>\n",
       "      <td>Sholay</td>\n",
       "      <td>Hollywood</td>\n",
       "      <td>Drama</td>\n",
       "      <td>Hindi</td>\n",
       "      <td>150</td>\n",
       "      <td>8.5</td>\n",
       "    </tr>\n",
       "  </tbody>\n",
       "</table>\n",
       "</div>"
      ],
      "text/plain": [
       "                           Name   Industry       Genre Language  Duration  \\\n",
       "Id_no.                                                                      \n",
       "1                      Bahubali  Tollywood      Action   Telugu       170   \n",
       "2                    Brahmastra  Bollywood  Mysterious    Hindi       180   \n",
       "3       Un -The Surgical Strike  Bollywood      Action    Hindi       120   \n",
       "4                          DDLJ  Bollywood    Romantic    Hindi       150   \n",
       "5           Avengers - End Game  Hollywood      Action  English       150   \n",
       "6                         Tenet  Hollywood       SciFi  English       150   \n",
       "7                         Major  Bollywood      Action    Hindi       140   \n",
       "8                  Intersteller  Hollywood       SciFi  English       190   \n",
       "9                       Gravity  Hollywood       SciFi  English       130   \n",
       "10                      Titanic  Hollywood       Drama  English       180   \n",
       "11       Yeh Jawani Hai Deewani  Bollywood    Romantic    Hindi       150   \n",
       "12                    Housefull  Bollywood       Drama    Hindi       150   \n",
       "13                 The Dictator  Hollywood      Comedy  English       150   \n",
       "14                   Hera Pheri  Bollywood      Comedy    Hindi       140   \n",
       "15                       Sholay  Hollywood       Drama    Hindi       150   \n",
       "\n",
       "        Rating  \n",
       "Id_no.          \n",
       "1          9.5  \n",
       "2          5.0  \n",
       "3         10.0  \n",
       "4         10.0  \n",
       "5          9.0  \n",
       "6          8.5  \n",
       "7          8.0  \n",
       "8          7.0  \n",
       "9          6.0  \n",
       "10         9.0  \n",
       "11         5.0  \n",
       "12         6.0  \n",
       "13         7.0  \n",
       "14         9.0  \n",
       "15         8.5  "
      ]
     },
     "execution_count": 6,
     "metadata": {},
     "output_type": "execute_result"
    }
   ],
   "source": [
    "movies"
   ]
  },
  {
   "cell_type": "code",
   "execution_count": 7,
   "id": "d5c28ee0-495b-4656-aa61-2b2714c28fd3",
   "metadata": {},
   "outputs": [],
   "source": [
    "#movies.drop(['Id_no.'], axis=1, inplace=True)"
   ]
  },
  {
   "cell_type": "code",
   "execution_count": 8,
   "id": "c18048da-1225-4f91-84ed-1388ce444014",
   "metadata": {},
   "outputs": [
    {
     "data": {
      "text/html": [
       "<div>\n",
       "<style scoped>\n",
       "    .dataframe tbody tr th:only-of-type {\n",
       "        vertical-align: middle;\n",
       "    }\n",
       "\n",
       "    .dataframe tbody tr th {\n",
       "        vertical-align: top;\n",
       "    }\n",
       "\n",
       "    .dataframe thead th {\n",
       "        text-align: right;\n",
       "    }\n",
       "</style>\n",
       "<table border=\"1\" class=\"dataframe\">\n",
       "  <thead>\n",
       "    <tr style=\"text-align: right;\">\n",
       "      <th></th>\n",
       "      <th>Name</th>\n",
       "      <th>Industry</th>\n",
       "      <th>Genre</th>\n",
       "      <th>Language</th>\n",
       "      <th>Duration</th>\n",
       "      <th>Rating</th>\n",
       "    </tr>\n",
       "    <tr>\n",
       "      <th>Id_no.</th>\n",
       "      <th></th>\n",
       "      <th></th>\n",
       "      <th></th>\n",
       "      <th></th>\n",
       "      <th></th>\n",
       "      <th></th>\n",
       "    </tr>\n",
       "  </thead>\n",
       "  <tbody>\n",
       "    <tr>\n",
       "      <th>1</th>\n",
       "      <td>Bahubali</td>\n",
       "      <td>Tollywood</td>\n",
       "      <td>Action</td>\n",
       "      <td>Telugu</td>\n",
       "      <td>170</td>\n",
       "      <td>9.5</td>\n",
       "    </tr>\n",
       "    <tr>\n",
       "      <th>2</th>\n",
       "      <td>Brahmastra</td>\n",
       "      <td>Bollywood</td>\n",
       "      <td>Mysterious</td>\n",
       "      <td>Hindi</td>\n",
       "      <td>180</td>\n",
       "      <td>5.0</td>\n",
       "    </tr>\n",
       "    <tr>\n",
       "      <th>3</th>\n",
       "      <td>Un -The Surgical Strike</td>\n",
       "      <td>Bollywood</td>\n",
       "      <td>Action</td>\n",
       "      <td>Hindi</td>\n",
       "      <td>120</td>\n",
       "      <td>10.0</td>\n",
       "    </tr>\n",
       "    <tr>\n",
       "      <th>4</th>\n",
       "      <td>DDLJ</td>\n",
       "      <td>Bollywood</td>\n",
       "      <td>Romantic</td>\n",
       "      <td>Hindi</td>\n",
       "      <td>150</td>\n",
       "      <td>10.0</td>\n",
       "    </tr>\n",
       "    <tr>\n",
       "      <th>5</th>\n",
       "      <td>Avengers - End Game</td>\n",
       "      <td>Hollywood</td>\n",
       "      <td>Action</td>\n",
       "      <td>English</td>\n",
       "      <td>150</td>\n",
       "      <td>9.0</td>\n",
       "    </tr>\n",
       "    <tr>\n",
       "      <th>6</th>\n",
       "      <td>Tenet</td>\n",
       "      <td>Hollywood</td>\n",
       "      <td>SciFi</td>\n",
       "      <td>English</td>\n",
       "      <td>150</td>\n",
       "      <td>8.5</td>\n",
       "    </tr>\n",
       "    <tr>\n",
       "      <th>7</th>\n",
       "      <td>Major</td>\n",
       "      <td>Bollywood</td>\n",
       "      <td>Action</td>\n",
       "      <td>Hindi</td>\n",
       "      <td>140</td>\n",
       "      <td>8.0</td>\n",
       "    </tr>\n",
       "    <tr>\n",
       "      <th>8</th>\n",
       "      <td>Intersteller</td>\n",
       "      <td>Hollywood</td>\n",
       "      <td>SciFi</td>\n",
       "      <td>English</td>\n",
       "      <td>190</td>\n",
       "      <td>7.0</td>\n",
       "    </tr>\n",
       "    <tr>\n",
       "      <th>9</th>\n",
       "      <td>Gravity</td>\n",
       "      <td>Hollywood</td>\n",
       "      <td>SciFi</td>\n",
       "      <td>English</td>\n",
       "      <td>130</td>\n",
       "      <td>6.0</td>\n",
       "    </tr>\n",
       "    <tr>\n",
       "      <th>10</th>\n",
       "      <td>Titanic</td>\n",
       "      <td>Hollywood</td>\n",
       "      <td>Drama</td>\n",
       "      <td>English</td>\n",
       "      <td>180</td>\n",
       "      <td>9.0</td>\n",
       "    </tr>\n",
       "    <tr>\n",
       "      <th>11</th>\n",
       "      <td>Yeh Jawani Hai Deewani</td>\n",
       "      <td>Bollywood</td>\n",
       "      <td>Romantic</td>\n",
       "      <td>Hindi</td>\n",
       "      <td>150</td>\n",
       "      <td>5.0</td>\n",
       "    </tr>\n",
       "    <tr>\n",
       "      <th>12</th>\n",
       "      <td>Housefull</td>\n",
       "      <td>Bollywood</td>\n",
       "      <td>Drama</td>\n",
       "      <td>Hindi</td>\n",
       "      <td>150</td>\n",
       "      <td>6.0</td>\n",
       "    </tr>\n",
       "    <tr>\n",
       "      <th>13</th>\n",
       "      <td>The Dictator</td>\n",
       "      <td>Hollywood</td>\n",
       "      <td>Comedy</td>\n",
       "      <td>English</td>\n",
       "      <td>150</td>\n",
       "      <td>7.0</td>\n",
       "    </tr>\n",
       "    <tr>\n",
       "      <th>14</th>\n",
       "      <td>Hera Pheri</td>\n",
       "      <td>Bollywood</td>\n",
       "      <td>Comedy</td>\n",
       "      <td>Hindi</td>\n",
       "      <td>140</td>\n",
       "      <td>9.0</td>\n",
       "    </tr>\n",
       "    <tr>\n",
       "      <th>15</th>\n",
       "      <td>Sholay</td>\n",
       "      <td>Hollywood</td>\n",
       "      <td>Drama</td>\n",
       "      <td>Hindi</td>\n",
       "      <td>150</td>\n",
       "      <td>8.5</td>\n",
       "    </tr>\n",
       "  </tbody>\n",
       "</table>\n",
       "</div>"
      ],
      "text/plain": [
       "                           Name   Industry       Genre Language  Duration  \\\n",
       "Id_no.                                                                      \n",
       "1                      Bahubali  Tollywood      Action   Telugu       170   \n",
       "2                    Brahmastra  Bollywood  Mysterious    Hindi       180   \n",
       "3       Un -The Surgical Strike  Bollywood      Action    Hindi       120   \n",
       "4                          DDLJ  Bollywood    Romantic    Hindi       150   \n",
       "5           Avengers - End Game  Hollywood      Action  English       150   \n",
       "6                         Tenet  Hollywood       SciFi  English       150   \n",
       "7                         Major  Bollywood      Action    Hindi       140   \n",
       "8                  Intersteller  Hollywood       SciFi  English       190   \n",
       "9                       Gravity  Hollywood       SciFi  English       130   \n",
       "10                      Titanic  Hollywood       Drama  English       180   \n",
       "11       Yeh Jawani Hai Deewani  Bollywood    Romantic    Hindi       150   \n",
       "12                    Housefull  Bollywood       Drama    Hindi       150   \n",
       "13                 The Dictator  Hollywood      Comedy  English       150   \n",
       "14                   Hera Pheri  Bollywood      Comedy    Hindi       140   \n",
       "15                       Sholay  Hollywood       Drama    Hindi       150   \n",
       "\n",
       "        Rating  \n",
       "Id_no.          \n",
       "1          9.5  \n",
       "2          5.0  \n",
       "3         10.0  \n",
       "4         10.0  \n",
       "5          9.0  \n",
       "6          8.5  \n",
       "7          8.0  \n",
       "8          7.0  \n",
       "9          6.0  \n",
       "10         9.0  \n",
       "11         5.0  \n",
       "12         6.0  \n",
       "13         7.0  \n",
       "14         9.0  \n",
       "15         8.5  "
      ]
     },
     "execution_count": 8,
     "metadata": {},
     "output_type": "execute_result"
    }
   ],
   "source": [
    "movies"
   ]
  },
  {
   "cell_type": "code",
   "execution_count": 9,
   "id": "e56ea229-1f25-4777-b745-05f1006d6210",
   "metadata": {},
   "outputs": [
    {
     "name": "stdout",
     "output_type": "stream",
     "text": [
      "<class 'pandas.core.frame.DataFrame'>\n",
      "Int64Index: 15 entries, 1 to 15\n",
      "Data columns (total 6 columns):\n",
      " #   Column    Non-Null Count  Dtype  \n",
      "---  ------    --------------  -----  \n",
      " 0   Name      15 non-null     object \n",
      " 1   Industry  15 non-null     object \n",
      " 2   Genre     15 non-null     object \n",
      " 3   Language  15 non-null     object \n",
      " 4   Duration  15 non-null     int64  \n",
      " 5   Rating    15 non-null     float64\n",
      "dtypes: float64(1), int64(1), object(4)\n",
      "memory usage: 840.0+ bytes\n",
      "None\n"
     ]
    }
   ],
   "source": [
    "print(movies.info())"
   ]
  },
  {
   "cell_type": "markdown",
   "id": "aa806fab-c88c-40db-8b26-1cebfc9b6e27",
   "metadata": {},
   "source": [
    "# Q1 FIND THE LONGEST MOVIE NAME?"
   ]
  },
  {
   "cell_type": "code",
   "execution_count": 10,
   "id": "3f4b3996-4c55-478d-bb4b-29a286dfde33",
   "metadata": {},
   "outputs": [
    {
     "data": {
      "text/plain": [
       "7"
      ]
     },
     "execution_count": 10,
     "metadata": {},
     "output_type": "execute_result"
    }
   ],
   "source": [
    "movies['Duration'].argmax()"
   ]
  },
  {
   "cell_type": "code",
   "execution_count": 11,
   "id": "fef5285a-d930-4d18-99f9-b1c7a2d25c8c",
   "metadata": {},
   "outputs": [
    {
     "data": {
      "text/plain": [
       "'Major'"
      ]
     },
     "execution_count": 11,
     "metadata": {},
     "output_type": "execute_result"
    }
   ],
   "source": [
    "movies['Name'][7]"
   ]
  },
  {
   "cell_type": "code",
   "execution_count": 12,
   "id": "81ab8c5e-705b-47ee-91f0-d8c292ae02fd",
   "metadata": {},
   "outputs": [
    {
     "data": {
      "text/plain": [
       "'Major'"
      ]
     },
     "execution_count": 12,
     "metadata": {},
     "output_type": "execute_result"
    }
   ],
   "source": [
    "movies['Name'][movies['Duration'].argmax()]"
   ]
  },
  {
   "cell_type": "markdown",
   "id": "3db18df5-f45e-4970-825a-537306217fe0",
   "metadata": {},
   "source": [
    "# 2- NUMBER OF MOVIES WHO GOT 10 RATINGS"
   ]
  },
  {
   "cell_type": "code",
   "execution_count": 13,
   "id": "ce8e97fe-e7ac-4227-8063-23cbf23e1740",
   "metadata": {},
   "outputs": [
    {
     "data": {
      "text/plain": [
       "2"
      ]
     },
     "execution_count": 13,
     "metadata": {},
     "output_type": "execute_result"
    }
   ],
   "source": [
    "sum(movies['Rating']==10)"
   ]
  },
  {
   "cell_type": "markdown",
   "id": "c2c2d0ac-c53a-4b5b-ba10-686750b16f23",
   "metadata": {},
   "source": [
    "# 3- How Many Industries Are There?"
   ]
  },
  {
   "cell_type": "code",
   "execution_count": 14,
   "id": "72830673-1dc2-4263-91c7-73f1337e70ae",
   "metadata": {},
   "outputs": [
    {
     "data": {
      "text/plain": [
       "pandas.core.series.Series"
      ]
     },
     "execution_count": 14,
     "metadata": {},
     "output_type": "execute_result"
    }
   ],
   "source": [
    "type(movies['Industry'].value_counts())"
   ]
  },
  {
   "cell_type": "code",
   "execution_count": 15,
   "id": "dc3098bc-9e53-4822-ba18-a8e66dfd19a8",
   "metadata": {},
   "outputs": [
    {
     "data": {
      "text/plain": [
       "Bollywood    7\n",
       "Hollywood    7\n",
       "Tollywood    1\n",
       "Name: Industry, dtype: int64"
      ]
     },
     "execution_count": 15,
     "metadata": {},
     "output_type": "execute_result"
    }
   ],
   "source": [
    "movies['Industry'].value_counts()"
   ]
  },
  {
   "cell_type": "code",
   "execution_count": 16,
   "id": "525e023d-379a-4c2c-87c4-cf21377d3f20",
   "metadata": {},
   "outputs": [
    {
     "data": {
      "text/plain": [
       "3"
      ]
     },
     "execution_count": 16,
     "metadata": {},
     "output_type": "execute_result"
    }
   ],
   "source": [
    "len(movies['Industry'].value_counts())"
   ]
  },
  {
   "cell_type": "code",
   "execution_count": 17,
   "id": "88616a97-7202-4ca8-97a7-32e295317fda",
   "metadata": {},
   "outputs": [
    {
     "data": {
      "text/plain": [
       "3"
      ]
     },
     "execution_count": 17,
     "metadata": {},
     "output_type": "execute_result"
    }
   ],
   "source": [
    "movies['Industry'].nunique()"
   ]
  },
  {
   "cell_type": "code",
   "execution_count": 18,
   "id": "48da5fd6-ecfb-46d6-a947-b81ace3d742c",
   "metadata": {},
   "outputs": [
    {
     "data": {
      "text/plain": [
       "array(['Tollywood', 'Bollywood', 'Hollywood'], dtype=object)"
      ]
     },
     "execution_count": 18,
     "metadata": {},
     "output_type": "execute_result"
    }
   ],
   "source": [
    "movies['Industry'].unique()"
   ]
  },
  {
   "cell_type": "markdown",
   "id": "47b0ab79-16f5-4a46-b277-519715818f13",
   "metadata": {},
   "source": [
    "# 4 - Find the least liked comedy movie name?"
   ]
  },
  {
   "cell_type": "code",
   "execution_count": 19,
   "id": "eaf33308-b573-40d6-9539-b6bb2064964d",
   "metadata": {},
   "outputs": [
    {
     "data": {
      "text/html": [
       "<div>\n",
       "<style scoped>\n",
       "    .dataframe tbody tr th:only-of-type {\n",
       "        vertical-align: middle;\n",
       "    }\n",
       "\n",
       "    .dataframe tbody tr th {\n",
       "        vertical-align: top;\n",
       "    }\n",
       "\n",
       "    .dataframe thead th {\n",
       "        text-align: right;\n",
       "    }\n",
       "</style>\n",
       "<table border=\"1\" class=\"dataframe\">\n",
       "  <thead>\n",
       "    <tr style=\"text-align: right;\">\n",
       "      <th></th>\n",
       "      <th>Name</th>\n",
       "      <th>Industry</th>\n",
       "      <th>Genre</th>\n",
       "      <th>Language</th>\n",
       "      <th>Duration</th>\n",
       "      <th>Rating</th>\n",
       "    </tr>\n",
       "    <tr>\n",
       "      <th>Id_no.</th>\n",
       "      <th></th>\n",
       "      <th></th>\n",
       "      <th></th>\n",
       "      <th></th>\n",
       "      <th></th>\n",
       "      <th></th>\n",
       "    </tr>\n",
       "  </thead>\n",
       "  <tbody>\n",
       "    <tr>\n",
       "      <th>13</th>\n",
       "      <td>The Dictator</td>\n",
       "      <td>Hollywood</td>\n",
       "      <td>Comedy</td>\n",
       "      <td>English</td>\n",
       "      <td>150</td>\n",
       "      <td>7.0</td>\n",
       "    </tr>\n",
       "    <tr>\n",
       "      <th>14</th>\n",
       "      <td>Hera Pheri</td>\n",
       "      <td>Bollywood</td>\n",
       "      <td>Comedy</td>\n",
       "      <td>Hindi</td>\n",
       "      <td>140</td>\n",
       "      <td>9.0</td>\n",
       "    </tr>\n",
       "  </tbody>\n",
       "</table>\n",
       "</div>"
      ],
      "text/plain": [
       "                Name   Industry   Genre Language  Duration  Rating\n",
       "Id_no.                                                            \n",
       "13      The Dictator  Hollywood  Comedy  English       150     7.0\n",
       "14        Hera Pheri  Bollywood  Comedy    Hindi       140     9.0"
      ]
     },
     "execution_count": 19,
     "metadata": {},
     "output_type": "execute_result"
    }
   ],
   "source": [
    "movies[movies['Genre']=='Comedy']"
   ]
  },
  {
   "cell_type": "code",
   "execution_count": 20,
   "id": "0d8e2b44-55ea-4213-98eb-d2472e83ee70",
   "metadata": {},
   "outputs": [
    {
     "data": {
      "text/plain": [
       "7.0"
      ]
     },
     "execution_count": 20,
     "metadata": {},
     "output_type": "execute_result"
    }
   ],
   "source": [
    "movies[movies['Genre']=='Comedy']['Rating'].min()"
   ]
  },
  {
   "cell_type": "code",
   "execution_count": 21,
   "id": "7a62d7e2-bad9-4ded-81d0-c9a6eba10df2",
   "metadata": {},
   "outputs": [
    {
     "data": {
      "text/plain": [
       "Id_no.\n",
       "13    The Dictator\n",
       "Name: Name, dtype: object"
      ]
     },
     "execution_count": 21,
     "metadata": {},
     "output_type": "execute_result"
    }
   ],
   "source": [
    "movies['Name'][movies['Genre']=='Comedy'][movies['Rating']==7.0]"
   ]
  },
  {
   "cell_type": "code",
   "execution_count": 22,
   "id": "af154b71-18cd-439f-b68f-d4b921e07a22",
   "metadata": {},
   "outputs": [
    {
     "data": {
      "text/plain": [
       "'The Dictator'"
      ]
     },
     "execution_count": 22,
     "metadata": {},
     "output_type": "execute_result"
    }
   ],
   "source": [
    "movies['Name'][movies[movies['Genre']=='Comedy']['Rating'].idxmin()]"
   ]
  },
  {
   "cell_type": "markdown",
   "id": "e5725d34-1746-474d-916c-a148b6c35462",
   "metadata": {},
   "source": [
    "# 5 - Find the longest english movie name?"
   ]
  },
  {
   "cell_type": "code",
   "execution_count": 23,
   "id": "ab86a17f-bce0-4f2a-b875-b5a0f0ecd9a1",
   "metadata": {},
   "outputs": [
    {
     "data": {
      "text/plain": [
       "'Intersteller'"
      ]
     },
     "execution_count": 23,
     "metadata": {},
     "output_type": "execute_result"
    }
   ],
   "source": [
    "movies['Name'][movies[movies['Language']=='English']['Duration'].idxmax()]"
   ]
  },
  {
   "cell_type": "code",
   "execution_count": null,
   "id": "dc68e2ce-9309-4bdf-a5f4-a997a018dac1",
   "metadata": {},
   "outputs": [],
   "source": []
  },
  {
   "cell_type": "markdown",
   "id": "24eb83af-887a-44c3-b76a-c47fd068b69f",
   "metadata": {},
   "source": [
    "# 6 - What is the genre of intersteller"
   ]
  },
  {
   "cell_type": "code",
   "execution_count": 24,
   "id": "8b17cf16-b1a0-4d3e-ac2d-31494e9311cf",
   "metadata": {},
   "outputs": [
    {
     "data": {
      "text/plain": [
       "Id_no.\n",
       "1                    bahubali\n",
       "2                  brahmastra\n",
       "3     un -the surgical strike\n",
       "4                        ddlj\n",
       "5         avengers - end game\n",
       "6                       tenet\n",
       "7                       major\n",
       "8                intersteller\n",
       "9                     gravity\n",
       "10                    titanic\n",
       "11     yeh jawani hai deewani\n",
       "12                  housefull\n",
       "13               the dictator\n",
       "14                 hera pheri\n",
       "15                     sholay\n",
       "Name: Name, dtype: object"
      ]
     },
     "execution_count": 24,
     "metadata": {},
     "output_type": "execute_result"
    }
   ],
   "source": [
    "movies['Name'].str.lower()"
   ]
  },
  {
   "cell_type": "code",
   "execution_count": 25,
   "id": "b1ee8e4b-5772-48bd-98cd-0c78ccd773f9",
   "metadata": {},
   "outputs": [
    {
     "data": {
      "text/plain": [
       "'SciFi'"
      ]
     },
     "execution_count": 25,
     "metadata": {},
     "output_type": "execute_result"
    }
   ],
   "source": [
    "movies['Genre'][movies['Name'].str.lower()=='Intersteller'.lower()].values[0]"
   ]
  },
  {
   "cell_type": "code",
   "execution_count": null,
   "id": "b4d80a82-4a62-475d-b939-667f21c34ed1",
   "metadata": {},
   "outputs": [],
   "source": []
  },
  {
   "cell_type": "markdown",
   "id": "2bb6fba7-af47-45bb-9260-d84c49740eca",
   "metadata": {},
   "source": [
    "# 7 - Avg duration of each genre"
   ]
  },
  {
   "cell_type": "code",
   "execution_count": 26,
   "id": "8ded0116-aac8-42ac-8991-fde8be039465",
   "metadata": {},
   "outputs": [
    {
     "data": {
      "text/plain": [
       "array(['Action', 'Mysterious', 'Romantic', 'SciFi', 'Drama', 'Comedy'],\n",
       "      dtype=object)"
      ]
     },
     "execution_count": 26,
     "metadata": {},
     "output_type": "execute_result"
    }
   ],
   "source": [
    "movies['Genre'].unique()"
   ]
  },
  {
   "cell_type": "code",
   "execution_count": 27,
   "id": "eb0acb17-603c-4560-94a6-4b038899acf8",
   "metadata": {},
   "outputs": [
    {
     "data": {
      "text/plain": [
       "6"
      ]
     },
     "execution_count": 27,
     "metadata": {},
     "output_type": "execute_result"
    }
   ],
   "source": [
    "movies['Genre'].nunique()"
   ]
  },
  {
   "cell_type": "code",
   "execution_count": 28,
   "id": "1ad61a61-9e0b-4b72-97fe-158f91fbdd0c",
   "metadata": {},
   "outputs": [
    {
     "name": "stdout",
     "output_type": "stream",
     "text": [
      "Action 145.0\n",
      "Mysterious 180.0\n",
      "Romantic 150.0\n",
      "SciFi 156.66666666666666\n",
      "Drama 160.0\n",
      "Comedy 145.0\n"
     ]
    }
   ],
   "source": [
    "for Genre in movies['Genre'].unique():\n",
    "    print(Genre, movies[movies['Genre']==Genre]['Duration'].mean())"
   ]
  },
  {
   "cell_type": "code",
   "execution_count": 29,
   "id": "4f746fed-9ef9-450e-a368-9a911ab84fc6",
   "metadata": {},
   "outputs": [
    {
     "data": {
      "text/plain": [
       "Genre\n",
       "Action        145.000000\n",
       "Comedy        145.000000\n",
       "Drama         160.000000\n",
       "Mysterious    180.000000\n",
       "Romantic      150.000000\n",
       "SciFi         156.666667\n",
       "Name: Duration, dtype: float64"
      ]
     },
     "execution_count": 29,
     "metadata": {},
     "output_type": "execute_result"
    }
   ],
   "source": [
    "movies.groupby('Genre')['Duration'].mean()"
   ]
  },
  {
   "cell_type": "code",
   "execution_count": 30,
   "id": "6fac038c-5480-43fe-a54a-4bbdeee861fb",
   "metadata": {},
   "outputs": [
    {
     "data": {
      "text/plain": [
       "Genre       Industry \n",
       "Action      Bollywood    130.000000\n",
       "            Hollywood    150.000000\n",
       "            Tollywood    170.000000\n",
       "Comedy      Bollywood    140.000000\n",
       "            Hollywood    150.000000\n",
       "Drama       Bollywood    150.000000\n",
       "            Hollywood    165.000000\n",
       "Mysterious  Bollywood    180.000000\n",
       "Romantic    Bollywood    150.000000\n",
       "SciFi       Hollywood    156.666667\n",
       "Name: Duration, dtype: float64"
      ]
     },
     "execution_count": 30,
     "metadata": {},
     "output_type": "execute_result"
    }
   ],
   "source": [
    "movies.groupby(['Genre','Industry'])['Duration'].mean()"
   ]
  },
  {
   "cell_type": "code",
   "execution_count": 31,
   "id": "9d41bc43-5f0d-479b-8516-9ca1116db6eb",
   "metadata": {},
   "outputs": [
    {
     "data": {
      "text/plain": [
       "Industry   Genre     \n",
       "Bollywood  Action        130.000000\n",
       "           Comedy        140.000000\n",
       "           Drama         150.000000\n",
       "           Mysterious    180.000000\n",
       "           Romantic      150.000000\n",
       "Hollywood  Action        150.000000\n",
       "           Comedy        150.000000\n",
       "           Drama         165.000000\n",
       "           SciFi         156.666667\n",
       "Tollywood  Action        170.000000\n",
       "Name: Duration, dtype: float64"
      ]
     },
     "execution_count": 31,
     "metadata": {},
     "output_type": "execute_result"
    }
   ],
   "source": [
    "movies.groupby(['Industry','Genre'])['Duration'].mean()"
   ]
  },
  {
   "cell_type": "code",
   "execution_count": 32,
   "id": "808c7613-8bd5-4b03-91a3-97db96104cb5",
   "metadata": {},
   "outputs": [
    {
     "data": {
      "text/html": [
       "<div>\n",
       "<style scoped>\n",
       "    .dataframe tbody tr th:only-of-type {\n",
       "        vertical-align: middle;\n",
       "    }\n",
       "\n",
       "    .dataframe tbody tr th {\n",
       "        vertical-align: top;\n",
       "    }\n",
       "\n",
       "    .dataframe thead th {\n",
       "        text-align: right;\n",
       "    }\n",
       "</style>\n",
       "<table border=\"1\" class=\"dataframe\">\n",
       "  <thead>\n",
       "    <tr style=\"text-align: right;\">\n",
       "      <th></th>\n",
       "      <th>Duration</th>\n",
       "      <th>Rating</th>\n",
       "    </tr>\n",
       "  </thead>\n",
       "  <tbody>\n",
       "    <tr>\n",
       "      <th>count</th>\n",
       "      <td>15.000000</td>\n",
       "      <td>15.000000</td>\n",
       "    </tr>\n",
       "    <tr>\n",
       "      <th>mean</th>\n",
       "      <td>153.333333</td>\n",
       "      <td>7.833333</td>\n",
       "    </tr>\n",
       "    <tr>\n",
       "      <th>std</th>\n",
       "      <td>19.148542</td>\n",
       "      <td>1.718249</td>\n",
       "    </tr>\n",
       "    <tr>\n",
       "      <th>min</th>\n",
       "      <td>120.000000</td>\n",
       "      <td>5.000000</td>\n",
       "    </tr>\n",
       "    <tr>\n",
       "      <th>25%</th>\n",
       "      <td>145.000000</td>\n",
       "      <td>6.500000</td>\n",
       "    </tr>\n",
       "    <tr>\n",
       "      <th>50%</th>\n",
       "      <td>150.000000</td>\n",
       "      <td>8.500000</td>\n",
       "    </tr>\n",
       "    <tr>\n",
       "      <th>75%</th>\n",
       "      <td>160.000000</td>\n",
       "      <td>9.000000</td>\n",
       "    </tr>\n",
       "    <tr>\n",
       "      <th>max</th>\n",
       "      <td>190.000000</td>\n",
       "      <td>10.000000</td>\n",
       "    </tr>\n",
       "  </tbody>\n",
       "</table>\n",
       "</div>"
      ],
      "text/plain": [
       "         Duration     Rating\n",
       "count   15.000000  15.000000\n",
       "mean   153.333333   7.833333\n",
       "std     19.148542   1.718249\n",
       "min    120.000000   5.000000\n",
       "25%    145.000000   6.500000\n",
       "50%    150.000000   8.500000\n",
       "75%    160.000000   9.000000\n",
       "max    190.000000  10.000000"
      ]
     },
     "execution_count": 32,
     "metadata": {},
     "output_type": "execute_result"
    }
   ],
   "source": [
    "movies.describe()"
   ]
  },
  {
   "cell_type": "code",
   "execution_count": 33,
   "id": "4a319798-2145-451e-ad5e-ce2ae24bc76e",
   "metadata": {},
   "outputs": [
    {
     "data": {
      "text/html": [
       "<div>\n",
       "<style scoped>\n",
       "    .dataframe tbody tr th:only-of-type {\n",
       "        vertical-align: middle;\n",
       "    }\n",
       "\n",
       "    .dataframe tbody tr th {\n",
       "        vertical-align: top;\n",
       "    }\n",
       "\n",
       "    .dataframe thead th {\n",
       "        text-align: right;\n",
       "    }\n",
       "</style>\n",
       "<table border=\"1\" class=\"dataframe\">\n",
       "  <thead>\n",
       "    <tr style=\"text-align: right;\">\n",
       "      <th></th>\n",
       "      <th>Name</th>\n",
       "      <th>Industry</th>\n",
       "      <th>Genre</th>\n",
       "      <th>Language</th>\n",
       "      <th>Duration</th>\n",
       "      <th>Rating</th>\n",
       "    </tr>\n",
       "  </thead>\n",
       "  <tbody>\n",
       "    <tr>\n",
       "      <th>count</th>\n",
       "      <td>15</td>\n",
       "      <td>15</td>\n",
       "      <td>15</td>\n",
       "      <td>15</td>\n",
       "      <td>15.000000</td>\n",
       "      <td>15.000000</td>\n",
       "    </tr>\n",
       "    <tr>\n",
       "      <th>unique</th>\n",
       "      <td>15</td>\n",
       "      <td>3</td>\n",
       "      <td>6</td>\n",
       "      <td>3</td>\n",
       "      <td>NaN</td>\n",
       "      <td>NaN</td>\n",
       "    </tr>\n",
       "    <tr>\n",
       "      <th>top</th>\n",
       "      <td>Bahubali</td>\n",
       "      <td>Bollywood</td>\n",
       "      <td>Action</td>\n",
       "      <td>Hindi</td>\n",
       "      <td>NaN</td>\n",
       "      <td>NaN</td>\n",
       "    </tr>\n",
       "    <tr>\n",
       "      <th>freq</th>\n",
       "      <td>1</td>\n",
       "      <td>7</td>\n",
       "      <td>4</td>\n",
       "      <td>8</td>\n",
       "      <td>NaN</td>\n",
       "      <td>NaN</td>\n",
       "    </tr>\n",
       "    <tr>\n",
       "      <th>mean</th>\n",
       "      <td>NaN</td>\n",
       "      <td>NaN</td>\n",
       "      <td>NaN</td>\n",
       "      <td>NaN</td>\n",
       "      <td>153.333333</td>\n",
       "      <td>7.833333</td>\n",
       "    </tr>\n",
       "    <tr>\n",
       "      <th>std</th>\n",
       "      <td>NaN</td>\n",
       "      <td>NaN</td>\n",
       "      <td>NaN</td>\n",
       "      <td>NaN</td>\n",
       "      <td>19.148542</td>\n",
       "      <td>1.718249</td>\n",
       "    </tr>\n",
       "    <tr>\n",
       "      <th>min</th>\n",
       "      <td>NaN</td>\n",
       "      <td>NaN</td>\n",
       "      <td>NaN</td>\n",
       "      <td>NaN</td>\n",
       "      <td>120.000000</td>\n",
       "      <td>5.000000</td>\n",
       "    </tr>\n",
       "    <tr>\n",
       "      <th>25%</th>\n",
       "      <td>NaN</td>\n",
       "      <td>NaN</td>\n",
       "      <td>NaN</td>\n",
       "      <td>NaN</td>\n",
       "      <td>145.000000</td>\n",
       "      <td>6.500000</td>\n",
       "    </tr>\n",
       "    <tr>\n",
       "      <th>50%</th>\n",
       "      <td>NaN</td>\n",
       "      <td>NaN</td>\n",
       "      <td>NaN</td>\n",
       "      <td>NaN</td>\n",
       "      <td>150.000000</td>\n",
       "      <td>8.500000</td>\n",
       "    </tr>\n",
       "    <tr>\n",
       "      <th>75%</th>\n",
       "      <td>NaN</td>\n",
       "      <td>NaN</td>\n",
       "      <td>NaN</td>\n",
       "      <td>NaN</td>\n",
       "      <td>160.000000</td>\n",
       "      <td>9.000000</td>\n",
       "    </tr>\n",
       "    <tr>\n",
       "      <th>max</th>\n",
       "      <td>NaN</td>\n",
       "      <td>NaN</td>\n",
       "      <td>NaN</td>\n",
       "      <td>NaN</td>\n",
       "      <td>190.000000</td>\n",
       "      <td>10.000000</td>\n",
       "    </tr>\n",
       "  </tbody>\n",
       "</table>\n",
       "</div>"
      ],
      "text/plain": [
       "            Name   Industry   Genre Language    Duration     Rating\n",
       "count         15         15      15       15   15.000000  15.000000\n",
       "unique        15          3       6        3         NaN        NaN\n",
       "top     Bahubali  Bollywood  Action    Hindi         NaN        NaN\n",
       "freq           1          7       4        8         NaN        NaN\n",
       "mean         NaN        NaN     NaN      NaN  153.333333   7.833333\n",
       "std          NaN        NaN     NaN      NaN   19.148542   1.718249\n",
       "min          NaN        NaN     NaN      NaN  120.000000   5.000000\n",
       "25%          NaN        NaN     NaN      NaN  145.000000   6.500000\n",
       "50%          NaN        NaN     NaN      NaN  150.000000   8.500000\n",
       "75%          NaN        NaN     NaN      NaN  160.000000   9.000000\n",
       "max          NaN        NaN     NaN      NaN  190.000000  10.000000"
      ]
     },
     "execution_count": 33,
     "metadata": {},
     "output_type": "execute_result"
    }
   ],
   "source": [
    "movies.describe(include='all')"
   ]
  },
  {
   "cell_type": "code",
   "execution_count": 34,
   "id": "bebb0bd9-bbfd-4edf-9694-5308f17e720d",
   "metadata": {},
   "outputs": [
    {
     "data": {
      "text/html": [
       "<div>\n",
       "<style scoped>\n",
       "    .dataframe tbody tr th:only-of-type {\n",
       "        vertical-align: middle;\n",
       "    }\n",
       "\n",
       "    .dataframe tbody tr th {\n",
       "        vertical-align: top;\n",
       "    }\n",
       "\n",
       "    .dataframe thead tr th {\n",
       "        text-align: left;\n",
       "    }\n",
       "\n",
       "    .dataframe thead tr:last-of-type th {\n",
       "        text-align: right;\n",
       "    }\n",
       "</style>\n",
       "<table border=\"1\" class=\"dataframe\">\n",
       "  <thead>\n",
       "    <tr>\n",
       "      <th></th>\n",
       "      <th colspan=\"8\" halign=\"left\">Duration</th>\n",
       "      <th colspan=\"8\" halign=\"left\">Rating</th>\n",
       "    </tr>\n",
       "    <tr>\n",
       "      <th></th>\n",
       "      <th>count</th>\n",
       "      <th>mean</th>\n",
       "      <th>std</th>\n",
       "      <th>min</th>\n",
       "      <th>25%</th>\n",
       "      <th>50%</th>\n",
       "      <th>75%</th>\n",
       "      <th>max</th>\n",
       "      <th>count</th>\n",
       "      <th>mean</th>\n",
       "      <th>std</th>\n",
       "      <th>min</th>\n",
       "      <th>25%</th>\n",
       "      <th>50%</th>\n",
       "      <th>75%</th>\n",
       "      <th>max</th>\n",
       "    </tr>\n",
       "    <tr>\n",
       "      <th>Genre</th>\n",
       "      <th></th>\n",
       "      <th></th>\n",
       "      <th></th>\n",
       "      <th></th>\n",
       "      <th></th>\n",
       "      <th></th>\n",
       "      <th></th>\n",
       "      <th></th>\n",
       "      <th></th>\n",
       "      <th></th>\n",
       "      <th></th>\n",
       "      <th></th>\n",
       "      <th></th>\n",
       "      <th></th>\n",
       "      <th></th>\n",
       "      <th></th>\n",
       "    </tr>\n",
       "  </thead>\n",
       "  <tbody>\n",
       "    <tr>\n",
       "      <th>Action</th>\n",
       "      <td>4.0</td>\n",
       "      <td>145.000000</td>\n",
       "      <td>20.816660</td>\n",
       "      <td>120.0</td>\n",
       "      <td>135.0</td>\n",
       "      <td>145.0</td>\n",
       "      <td>155.0</td>\n",
       "      <td>170.0</td>\n",
       "      <td>4.0</td>\n",
       "      <td>9.125000</td>\n",
       "      <td>0.853913</td>\n",
       "      <td>8.0</td>\n",
       "      <td>8.75</td>\n",
       "      <td>9.25</td>\n",
       "      <td>9.625</td>\n",
       "      <td>10.0</td>\n",
       "    </tr>\n",
       "    <tr>\n",
       "      <th>Comedy</th>\n",
       "      <td>2.0</td>\n",
       "      <td>145.000000</td>\n",
       "      <td>7.071068</td>\n",
       "      <td>140.0</td>\n",
       "      <td>142.5</td>\n",
       "      <td>145.0</td>\n",
       "      <td>147.5</td>\n",
       "      <td>150.0</td>\n",
       "      <td>2.0</td>\n",
       "      <td>8.000000</td>\n",
       "      <td>1.414214</td>\n",
       "      <td>7.0</td>\n",
       "      <td>7.50</td>\n",
       "      <td>8.00</td>\n",
       "      <td>8.500</td>\n",
       "      <td>9.0</td>\n",
       "    </tr>\n",
       "    <tr>\n",
       "      <th>Drama</th>\n",
       "      <td>3.0</td>\n",
       "      <td>160.000000</td>\n",
       "      <td>17.320508</td>\n",
       "      <td>150.0</td>\n",
       "      <td>150.0</td>\n",
       "      <td>150.0</td>\n",
       "      <td>165.0</td>\n",
       "      <td>180.0</td>\n",
       "      <td>3.0</td>\n",
       "      <td>7.833333</td>\n",
       "      <td>1.607275</td>\n",
       "      <td>6.0</td>\n",
       "      <td>7.25</td>\n",
       "      <td>8.50</td>\n",
       "      <td>8.750</td>\n",
       "      <td>9.0</td>\n",
       "    </tr>\n",
       "    <tr>\n",
       "      <th>Mysterious</th>\n",
       "      <td>1.0</td>\n",
       "      <td>180.000000</td>\n",
       "      <td>NaN</td>\n",
       "      <td>180.0</td>\n",
       "      <td>180.0</td>\n",
       "      <td>180.0</td>\n",
       "      <td>180.0</td>\n",
       "      <td>180.0</td>\n",
       "      <td>1.0</td>\n",
       "      <td>5.000000</td>\n",
       "      <td>NaN</td>\n",
       "      <td>5.0</td>\n",
       "      <td>5.00</td>\n",
       "      <td>5.00</td>\n",
       "      <td>5.000</td>\n",
       "      <td>5.0</td>\n",
       "    </tr>\n",
       "    <tr>\n",
       "      <th>Romantic</th>\n",
       "      <td>2.0</td>\n",
       "      <td>150.000000</td>\n",
       "      <td>0.000000</td>\n",
       "      <td>150.0</td>\n",
       "      <td>150.0</td>\n",
       "      <td>150.0</td>\n",
       "      <td>150.0</td>\n",
       "      <td>150.0</td>\n",
       "      <td>2.0</td>\n",
       "      <td>7.500000</td>\n",
       "      <td>3.535534</td>\n",
       "      <td>5.0</td>\n",
       "      <td>6.25</td>\n",
       "      <td>7.50</td>\n",
       "      <td>8.750</td>\n",
       "      <td>10.0</td>\n",
       "    </tr>\n",
       "    <tr>\n",
       "      <th>SciFi</th>\n",
       "      <td>3.0</td>\n",
       "      <td>156.666667</td>\n",
       "      <td>30.550505</td>\n",
       "      <td>130.0</td>\n",
       "      <td>140.0</td>\n",
       "      <td>150.0</td>\n",
       "      <td>170.0</td>\n",
       "      <td>190.0</td>\n",
       "      <td>3.0</td>\n",
       "      <td>7.166667</td>\n",
       "      <td>1.258306</td>\n",
       "      <td>6.0</td>\n",
       "      <td>6.50</td>\n",
       "      <td>7.00</td>\n",
       "      <td>7.750</td>\n",
       "      <td>8.5</td>\n",
       "    </tr>\n",
       "  </tbody>\n",
       "</table>\n",
       "</div>"
      ],
      "text/plain": [
       "           Duration                                                            \\\n",
       "              count        mean        std    min    25%    50%    75%    max   \n",
       "Genre                                                                           \n",
       "Action          4.0  145.000000  20.816660  120.0  135.0  145.0  155.0  170.0   \n",
       "Comedy          2.0  145.000000   7.071068  140.0  142.5  145.0  147.5  150.0   \n",
       "Drama           3.0  160.000000  17.320508  150.0  150.0  150.0  165.0  180.0   \n",
       "Mysterious      1.0  180.000000        NaN  180.0  180.0  180.0  180.0  180.0   \n",
       "Romantic        2.0  150.000000   0.000000  150.0  150.0  150.0  150.0  150.0   \n",
       "SciFi           3.0  156.666667  30.550505  130.0  140.0  150.0  170.0  190.0   \n",
       "\n",
       "           Rating                                                    \n",
       "            count      mean       std  min   25%   50%    75%   max  \n",
       "Genre                                                                \n",
       "Action        4.0  9.125000  0.853913  8.0  8.75  9.25  9.625  10.0  \n",
       "Comedy        2.0  8.000000  1.414214  7.0  7.50  8.00  8.500   9.0  \n",
       "Drama         3.0  7.833333  1.607275  6.0  7.25  8.50  8.750   9.0  \n",
       "Mysterious    1.0  5.000000       NaN  5.0  5.00  5.00  5.000   5.0  \n",
       "Romantic      2.0  7.500000  3.535534  5.0  6.25  7.50  8.750  10.0  \n",
       "SciFi         3.0  7.166667  1.258306  6.0  6.50  7.00  7.750   8.5  "
      ]
     },
     "execution_count": 34,
     "metadata": {},
     "output_type": "execute_result"
    }
   ],
   "source": [
    "movies.groupby('Genre').describe()"
   ]
  },
  {
   "cell_type": "code",
   "execution_count": 35,
   "id": "238ad335-2d00-48f8-a3a1-a70cc72e6440",
   "metadata": {},
   "outputs": [
    {
     "data": {
      "text/html": [
       "<div>\n",
       "<style scoped>\n",
       "    .dataframe tbody tr th:only-of-type {\n",
       "        vertical-align: middle;\n",
       "    }\n",
       "\n",
       "    .dataframe tbody tr th {\n",
       "        vertical-align: top;\n",
       "    }\n",
       "\n",
       "    .dataframe thead th {\n",
       "        text-align: right;\n",
       "    }\n",
       "</style>\n",
       "<table border=\"1\" class=\"dataframe\">\n",
       "  <thead>\n",
       "    <tr style=\"text-align: right;\">\n",
       "      <th></th>\n",
       "      <th>Industry</th>\n",
       "      <th>Bollywood</th>\n",
       "      <th>Hollywood</th>\n",
       "      <th>Tollywood</th>\n",
       "    </tr>\n",
       "  </thead>\n",
       "  <tbody>\n",
       "    <tr>\n",
       "      <th rowspan=\"8\" valign=\"top\">Duration</th>\n",
       "      <th>count</th>\n",
       "      <td>7.000000</td>\n",
       "      <td>7.000000</td>\n",
       "      <td>1.0</td>\n",
       "    </tr>\n",
       "    <tr>\n",
       "      <th>mean</th>\n",
       "      <td>147.142857</td>\n",
       "      <td>157.142857</td>\n",
       "      <td>170.0</td>\n",
       "    </tr>\n",
       "    <tr>\n",
       "      <th>std</th>\n",
       "      <td>17.994708</td>\n",
       "      <td>20.586635</td>\n",
       "      <td>NaN</td>\n",
       "    </tr>\n",
       "    <tr>\n",
       "      <th>min</th>\n",
       "      <td>120.000000</td>\n",
       "      <td>130.000000</td>\n",
       "      <td>170.0</td>\n",
       "    </tr>\n",
       "    <tr>\n",
       "      <th>25%</th>\n",
       "      <td>140.000000</td>\n",
       "      <td>150.000000</td>\n",
       "      <td>170.0</td>\n",
       "    </tr>\n",
       "    <tr>\n",
       "      <th>50%</th>\n",
       "      <td>150.000000</td>\n",
       "      <td>150.000000</td>\n",
       "      <td>170.0</td>\n",
       "    </tr>\n",
       "    <tr>\n",
       "      <th>75%</th>\n",
       "      <td>150.000000</td>\n",
       "      <td>165.000000</td>\n",
       "      <td>170.0</td>\n",
       "    </tr>\n",
       "    <tr>\n",
       "      <th>max</th>\n",
       "      <td>180.000000</td>\n",
       "      <td>190.000000</td>\n",
       "      <td>170.0</td>\n",
       "    </tr>\n",
       "    <tr>\n",
       "      <th rowspan=\"8\" valign=\"top\">Rating</th>\n",
       "      <th>count</th>\n",
       "      <td>7.000000</td>\n",
       "      <td>7.000000</td>\n",
       "      <td>1.0</td>\n",
       "    </tr>\n",
       "    <tr>\n",
       "      <th>mean</th>\n",
       "      <td>7.571429</td>\n",
       "      <td>7.857143</td>\n",
       "      <td>9.5</td>\n",
       "    </tr>\n",
       "    <tr>\n",
       "      <th>std</th>\n",
       "      <td>2.225395</td>\n",
       "      <td>1.180194</td>\n",
       "      <td>NaN</td>\n",
       "    </tr>\n",
       "    <tr>\n",
       "      <th>min</th>\n",
       "      <td>5.000000</td>\n",
       "      <td>6.000000</td>\n",
       "      <td>9.5</td>\n",
       "    </tr>\n",
       "    <tr>\n",
       "      <th>25%</th>\n",
       "      <td>5.500000</td>\n",
       "      <td>7.000000</td>\n",
       "      <td>9.5</td>\n",
       "    </tr>\n",
       "    <tr>\n",
       "      <th>50%</th>\n",
       "      <td>8.000000</td>\n",
       "      <td>8.500000</td>\n",
       "      <td>9.5</td>\n",
       "    </tr>\n",
       "    <tr>\n",
       "      <th>75%</th>\n",
       "      <td>9.500000</td>\n",
       "      <td>8.750000</td>\n",
       "      <td>9.5</td>\n",
       "    </tr>\n",
       "    <tr>\n",
       "      <th>max</th>\n",
       "      <td>10.000000</td>\n",
       "      <td>9.000000</td>\n",
       "      <td>9.5</td>\n",
       "    </tr>\n",
       "  </tbody>\n",
       "</table>\n",
       "</div>"
      ],
      "text/plain": [
       "Industry         Bollywood   Hollywood  Tollywood\n",
       "Duration count    7.000000    7.000000        1.0\n",
       "         mean   147.142857  157.142857      170.0\n",
       "         std     17.994708   20.586635        NaN\n",
       "         min    120.000000  130.000000      170.0\n",
       "         25%    140.000000  150.000000      170.0\n",
       "         50%    150.000000  150.000000      170.0\n",
       "         75%    150.000000  165.000000      170.0\n",
       "         max    180.000000  190.000000      170.0\n",
       "Rating   count    7.000000    7.000000        1.0\n",
       "         mean     7.571429    7.857143        9.5\n",
       "         std      2.225395    1.180194        NaN\n",
       "         min      5.000000    6.000000        9.5\n",
       "         25%      5.500000    7.000000        9.5\n",
       "         50%      8.000000    8.500000        9.5\n",
       "         75%      9.500000    8.750000        9.5\n",
       "         max     10.000000    9.000000        9.5"
      ]
     },
     "execution_count": 35,
     "metadata": {},
     "output_type": "execute_result"
    }
   ],
   "source": [
    "movies.groupby('Industry').describe().T"
   ]
  },
  {
   "cell_type": "code",
   "execution_count": 36,
   "id": "817c95b2-5488-4ed6-aaf0-01d0b8bd45fd",
   "metadata": {},
   "outputs": [
    {
     "data": {
      "text/html": [
       "<div>\n",
       "<style scoped>\n",
       "    .dataframe tbody tr th:only-of-type {\n",
       "        vertical-align: middle;\n",
       "    }\n",
       "\n",
       "    .dataframe tbody tr th {\n",
       "        vertical-align: top;\n",
       "    }\n",
       "\n",
       "    .dataframe thead tr th {\n",
       "        text-align: left;\n",
       "    }\n",
       "</style>\n",
       "<table border=\"1\" class=\"dataframe\">\n",
       "  <thead>\n",
       "    <tr>\n",
       "      <th></th>\n",
       "      <th>Genre</th>\n",
       "      <th colspan=\"3\" halign=\"left\">Action</th>\n",
       "      <th colspan=\"2\" halign=\"left\">Comedy</th>\n",
       "      <th colspan=\"2\" halign=\"left\">Drama</th>\n",
       "      <th>Mysterious</th>\n",
       "      <th>Romantic</th>\n",
       "      <th>SciFi</th>\n",
       "    </tr>\n",
       "    <tr>\n",
       "      <th></th>\n",
       "      <th>Industry</th>\n",
       "      <th>Bollywood</th>\n",
       "      <th>Hollywood</th>\n",
       "      <th>Tollywood</th>\n",
       "      <th>Bollywood</th>\n",
       "      <th>Hollywood</th>\n",
       "      <th>Bollywood</th>\n",
       "      <th>Hollywood</th>\n",
       "      <th>Bollywood</th>\n",
       "      <th>Bollywood</th>\n",
       "      <th>Hollywood</th>\n",
       "    </tr>\n",
       "  </thead>\n",
       "  <tbody>\n",
       "    <tr>\n",
       "      <th rowspan=\"8\" valign=\"top\">Duration</th>\n",
       "      <th>count</th>\n",
       "      <td>2.000000</td>\n",
       "      <td>1.0</td>\n",
       "      <td>1.0</td>\n",
       "      <td>1.0</td>\n",
       "      <td>1.0</td>\n",
       "      <td>1.0</td>\n",
       "      <td>2.000000</td>\n",
       "      <td>1.0</td>\n",
       "      <td>2.000000</td>\n",
       "      <td>3.000000</td>\n",
       "    </tr>\n",
       "    <tr>\n",
       "      <th>mean</th>\n",
       "      <td>130.000000</td>\n",
       "      <td>150.0</td>\n",
       "      <td>170.0</td>\n",
       "      <td>140.0</td>\n",
       "      <td>150.0</td>\n",
       "      <td>150.0</td>\n",
       "      <td>165.000000</td>\n",
       "      <td>180.0</td>\n",
       "      <td>150.000000</td>\n",
       "      <td>156.666667</td>\n",
       "    </tr>\n",
       "    <tr>\n",
       "      <th>std</th>\n",
       "      <td>14.142136</td>\n",
       "      <td>NaN</td>\n",
       "      <td>NaN</td>\n",
       "      <td>NaN</td>\n",
       "      <td>NaN</td>\n",
       "      <td>NaN</td>\n",
       "      <td>21.213203</td>\n",
       "      <td>NaN</td>\n",
       "      <td>0.000000</td>\n",
       "      <td>30.550505</td>\n",
       "    </tr>\n",
       "    <tr>\n",
       "      <th>min</th>\n",
       "      <td>120.000000</td>\n",
       "      <td>150.0</td>\n",
       "      <td>170.0</td>\n",
       "      <td>140.0</td>\n",
       "      <td>150.0</td>\n",
       "      <td>150.0</td>\n",
       "      <td>150.000000</td>\n",
       "      <td>180.0</td>\n",
       "      <td>150.000000</td>\n",
       "      <td>130.000000</td>\n",
       "    </tr>\n",
       "    <tr>\n",
       "      <th>25%</th>\n",
       "      <td>125.000000</td>\n",
       "      <td>150.0</td>\n",
       "      <td>170.0</td>\n",
       "      <td>140.0</td>\n",
       "      <td>150.0</td>\n",
       "      <td>150.0</td>\n",
       "      <td>157.500000</td>\n",
       "      <td>180.0</td>\n",
       "      <td>150.000000</td>\n",
       "      <td>140.000000</td>\n",
       "    </tr>\n",
       "    <tr>\n",
       "      <th>50%</th>\n",
       "      <td>130.000000</td>\n",
       "      <td>150.0</td>\n",
       "      <td>170.0</td>\n",
       "      <td>140.0</td>\n",
       "      <td>150.0</td>\n",
       "      <td>150.0</td>\n",
       "      <td>165.000000</td>\n",
       "      <td>180.0</td>\n",
       "      <td>150.000000</td>\n",
       "      <td>150.000000</td>\n",
       "    </tr>\n",
       "    <tr>\n",
       "      <th>75%</th>\n",
       "      <td>135.000000</td>\n",
       "      <td>150.0</td>\n",
       "      <td>170.0</td>\n",
       "      <td>140.0</td>\n",
       "      <td>150.0</td>\n",
       "      <td>150.0</td>\n",
       "      <td>172.500000</td>\n",
       "      <td>180.0</td>\n",
       "      <td>150.000000</td>\n",
       "      <td>170.000000</td>\n",
       "    </tr>\n",
       "    <tr>\n",
       "      <th>max</th>\n",
       "      <td>140.000000</td>\n",
       "      <td>150.0</td>\n",
       "      <td>170.0</td>\n",
       "      <td>140.0</td>\n",
       "      <td>150.0</td>\n",
       "      <td>150.0</td>\n",
       "      <td>180.000000</td>\n",
       "      <td>180.0</td>\n",
       "      <td>150.000000</td>\n",
       "      <td>190.000000</td>\n",
       "    </tr>\n",
       "    <tr>\n",
       "      <th rowspan=\"8\" valign=\"top\">Rating</th>\n",
       "      <th>count</th>\n",
       "      <td>2.000000</td>\n",
       "      <td>1.0</td>\n",
       "      <td>1.0</td>\n",
       "      <td>1.0</td>\n",
       "      <td>1.0</td>\n",
       "      <td>1.0</td>\n",
       "      <td>2.000000</td>\n",
       "      <td>1.0</td>\n",
       "      <td>2.000000</td>\n",
       "      <td>3.000000</td>\n",
       "    </tr>\n",
       "    <tr>\n",
       "      <th>mean</th>\n",
       "      <td>9.000000</td>\n",
       "      <td>9.0</td>\n",
       "      <td>9.5</td>\n",
       "      <td>9.0</td>\n",
       "      <td>7.0</td>\n",
       "      <td>6.0</td>\n",
       "      <td>8.750000</td>\n",
       "      <td>5.0</td>\n",
       "      <td>7.500000</td>\n",
       "      <td>7.166667</td>\n",
       "    </tr>\n",
       "    <tr>\n",
       "      <th>std</th>\n",
       "      <td>1.414214</td>\n",
       "      <td>NaN</td>\n",
       "      <td>NaN</td>\n",
       "      <td>NaN</td>\n",
       "      <td>NaN</td>\n",
       "      <td>NaN</td>\n",
       "      <td>0.353553</td>\n",
       "      <td>NaN</td>\n",
       "      <td>3.535534</td>\n",
       "      <td>1.258306</td>\n",
       "    </tr>\n",
       "    <tr>\n",
       "      <th>min</th>\n",
       "      <td>8.000000</td>\n",
       "      <td>9.0</td>\n",
       "      <td>9.5</td>\n",
       "      <td>9.0</td>\n",
       "      <td>7.0</td>\n",
       "      <td>6.0</td>\n",
       "      <td>8.500000</td>\n",
       "      <td>5.0</td>\n",
       "      <td>5.000000</td>\n",
       "      <td>6.000000</td>\n",
       "    </tr>\n",
       "    <tr>\n",
       "      <th>25%</th>\n",
       "      <td>8.500000</td>\n",
       "      <td>9.0</td>\n",
       "      <td>9.5</td>\n",
       "      <td>9.0</td>\n",
       "      <td>7.0</td>\n",
       "      <td>6.0</td>\n",
       "      <td>8.625000</td>\n",
       "      <td>5.0</td>\n",
       "      <td>6.250000</td>\n",
       "      <td>6.500000</td>\n",
       "    </tr>\n",
       "    <tr>\n",
       "      <th>50%</th>\n",
       "      <td>9.000000</td>\n",
       "      <td>9.0</td>\n",
       "      <td>9.5</td>\n",
       "      <td>9.0</td>\n",
       "      <td>7.0</td>\n",
       "      <td>6.0</td>\n",
       "      <td>8.750000</td>\n",
       "      <td>5.0</td>\n",
       "      <td>7.500000</td>\n",
       "      <td>7.000000</td>\n",
       "    </tr>\n",
       "    <tr>\n",
       "      <th>75%</th>\n",
       "      <td>9.500000</td>\n",
       "      <td>9.0</td>\n",
       "      <td>9.5</td>\n",
       "      <td>9.0</td>\n",
       "      <td>7.0</td>\n",
       "      <td>6.0</td>\n",
       "      <td>8.875000</td>\n",
       "      <td>5.0</td>\n",
       "      <td>8.750000</td>\n",
       "      <td>7.750000</td>\n",
       "    </tr>\n",
       "    <tr>\n",
       "      <th>max</th>\n",
       "      <td>10.000000</td>\n",
       "      <td>9.0</td>\n",
       "      <td>9.5</td>\n",
       "      <td>9.0</td>\n",
       "      <td>7.0</td>\n",
       "      <td>6.0</td>\n",
       "      <td>9.000000</td>\n",
       "      <td>5.0</td>\n",
       "      <td>10.000000</td>\n",
       "      <td>8.500000</td>\n",
       "    </tr>\n",
       "  </tbody>\n",
       "</table>\n",
       "</div>"
      ],
      "text/plain": [
       "Genre               Action                        Comedy               Drama  \\\n",
       "Industry         Bollywood Hollywood Tollywood Bollywood Hollywood Bollywood   \n",
       "Duration count    2.000000       1.0       1.0       1.0       1.0       1.0   \n",
       "         mean   130.000000     150.0     170.0     140.0     150.0     150.0   \n",
       "         std     14.142136       NaN       NaN       NaN       NaN       NaN   \n",
       "         min    120.000000     150.0     170.0     140.0     150.0     150.0   \n",
       "         25%    125.000000     150.0     170.0     140.0     150.0     150.0   \n",
       "         50%    130.000000     150.0     170.0     140.0     150.0     150.0   \n",
       "         75%    135.000000     150.0     170.0     140.0     150.0     150.0   \n",
       "         max    140.000000     150.0     170.0     140.0     150.0     150.0   \n",
       "Rating   count    2.000000       1.0       1.0       1.0       1.0       1.0   \n",
       "         mean     9.000000       9.0       9.5       9.0       7.0       6.0   \n",
       "         std      1.414214       NaN       NaN       NaN       NaN       NaN   \n",
       "         min      8.000000       9.0       9.5       9.0       7.0       6.0   \n",
       "         25%      8.500000       9.0       9.5       9.0       7.0       6.0   \n",
       "         50%      9.000000       9.0       9.5       9.0       7.0       6.0   \n",
       "         75%      9.500000       9.0       9.5       9.0       7.0       6.0   \n",
       "         max     10.000000       9.0       9.5       9.0       7.0       6.0   \n",
       "\n",
       "Genre                      Mysterious    Romantic       SciFi  \n",
       "Industry         Hollywood  Bollywood   Bollywood   Hollywood  \n",
       "Duration count    2.000000        1.0    2.000000    3.000000  \n",
       "         mean   165.000000      180.0  150.000000  156.666667  \n",
       "         std     21.213203        NaN    0.000000   30.550505  \n",
       "         min    150.000000      180.0  150.000000  130.000000  \n",
       "         25%    157.500000      180.0  150.000000  140.000000  \n",
       "         50%    165.000000      180.0  150.000000  150.000000  \n",
       "         75%    172.500000      180.0  150.000000  170.000000  \n",
       "         max    180.000000      180.0  150.000000  190.000000  \n",
       "Rating   count    2.000000        1.0    2.000000    3.000000  \n",
       "         mean     8.750000        5.0    7.500000    7.166667  \n",
       "         std      0.353553        NaN    3.535534    1.258306  \n",
       "         min      8.500000        5.0    5.000000    6.000000  \n",
       "         25%      8.625000        5.0    6.250000    6.500000  \n",
       "         50%      8.750000        5.0    7.500000    7.000000  \n",
       "         75%      8.875000        5.0    8.750000    7.750000  \n",
       "         max      9.000000        5.0   10.000000    8.500000  "
      ]
     },
     "execution_count": 36,
     "metadata": {},
     "output_type": "execute_result"
    }
   ],
   "source": [
    "movies.groupby(['Genre','Industry']).describe().T"
   ]
  },
  {
   "cell_type": "code",
   "execution_count": null,
   "id": "a33d0c60-fcff-4ca6-9feb-8d38ad48339f",
   "metadata": {},
   "outputs": [],
   "source": []
  },
  {
   "cell_type": "code",
   "execution_count": null,
   "id": "f4081f4b-1572-4a58-953e-d79cd78c4c88",
   "metadata": {},
   "outputs": [],
   "source": []
  },
  {
   "cell_type": "code",
   "execution_count": null,
   "id": "05b1473d-c251-4e04-9441-30aaf9de94c6",
   "metadata": {},
   "outputs": [],
   "source": []
  },
  {
   "cell_type": "code",
   "execution_count": 37,
   "id": "be7a88c3-0298-43eb-836a-8bf180842e8b",
   "metadata": {},
   "outputs": [],
   "source": [
    "names=movies['Name']"
   ]
  },
  {
   "cell_type": "code",
   "execution_count": 38,
   "id": "62b662bb-1c29-432f-ba5b-a7e4db9c0180",
   "metadata": {},
   "outputs": [
    {
     "data": {
      "text/plain": [
       "Id_no.\n",
       "1                    Bahubali\n",
       "2                  Brahmastra\n",
       "3     Un -The Surgical Strike\n",
       "4                        DDLJ\n",
       "5         Avengers - End Game\n",
       "6                       Tenet\n",
       "7                       Major\n",
       "8                Intersteller\n",
       "9                     Gravity\n",
       "10                    Titanic\n",
       "11     Yeh Jawani Hai Deewani\n",
       "12                  Housefull\n",
       "13               The Dictator\n",
       "14                 Hera Pheri\n",
       "15                     Sholay\n",
       "Name: Name, dtype: object"
      ]
     },
     "execution_count": 38,
     "metadata": {},
     "output_type": "execute_result"
    }
   ],
   "source": [
    "names"
   ]
  },
  {
   "cell_type": "code",
   "execution_count": 39,
   "id": "a8dc6543-99d1-4075-b0ea-bf8ddf5836c5",
   "metadata": {},
   "outputs": [],
   "source": [
    "# get_dummies     ##very important"
   ]
  },
  {
   "cell_type": "code",
   "execution_count": 40,
   "id": "26721be5-dbfb-4d99-8aea-d502051648d2",
   "metadata": {},
   "outputs": [
    {
     "data": {
      "text/html": [
       "<div>\n",
       "<style scoped>\n",
       "    .dataframe tbody tr th:only-of-type {\n",
       "        vertical-align: middle;\n",
       "    }\n",
       "\n",
       "    .dataframe tbody tr th {\n",
       "        vertical-align: top;\n",
       "    }\n",
       "\n",
       "    .dataframe thead th {\n",
       "        text-align: right;\n",
       "    }\n",
       "</style>\n",
       "<table border=\"1\" class=\"dataframe\">\n",
       "  <thead>\n",
       "    <tr style=\"text-align: right;\">\n",
       "      <th></th>\n",
       "      <th>Action</th>\n",
       "      <th>Comedy</th>\n",
       "      <th>Drama</th>\n",
       "      <th>Mysterious</th>\n",
       "      <th>Romantic</th>\n",
       "      <th>SciFi</th>\n",
       "    </tr>\n",
       "    <tr>\n",
       "      <th>Id_no.</th>\n",
       "      <th></th>\n",
       "      <th></th>\n",
       "      <th></th>\n",
       "      <th></th>\n",
       "      <th></th>\n",
       "      <th></th>\n",
       "    </tr>\n",
       "  </thead>\n",
       "  <tbody>\n",
       "    <tr>\n",
       "      <th>1</th>\n",
       "      <td>1</td>\n",
       "      <td>0</td>\n",
       "      <td>0</td>\n",
       "      <td>0</td>\n",
       "      <td>0</td>\n",
       "      <td>0</td>\n",
       "    </tr>\n",
       "    <tr>\n",
       "      <th>2</th>\n",
       "      <td>0</td>\n",
       "      <td>0</td>\n",
       "      <td>0</td>\n",
       "      <td>1</td>\n",
       "      <td>0</td>\n",
       "      <td>0</td>\n",
       "    </tr>\n",
       "    <tr>\n",
       "      <th>3</th>\n",
       "      <td>1</td>\n",
       "      <td>0</td>\n",
       "      <td>0</td>\n",
       "      <td>0</td>\n",
       "      <td>0</td>\n",
       "      <td>0</td>\n",
       "    </tr>\n",
       "    <tr>\n",
       "      <th>4</th>\n",
       "      <td>0</td>\n",
       "      <td>0</td>\n",
       "      <td>0</td>\n",
       "      <td>0</td>\n",
       "      <td>1</td>\n",
       "      <td>0</td>\n",
       "    </tr>\n",
       "    <tr>\n",
       "      <th>5</th>\n",
       "      <td>1</td>\n",
       "      <td>0</td>\n",
       "      <td>0</td>\n",
       "      <td>0</td>\n",
       "      <td>0</td>\n",
       "      <td>0</td>\n",
       "    </tr>\n",
       "    <tr>\n",
       "      <th>6</th>\n",
       "      <td>0</td>\n",
       "      <td>0</td>\n",
       "      <td>0</td>\n",
       "      <td>0</td>\n",
       "      <td>0</td>\n",
       "      <td>1</td>\n",
       "    </tr>\n",
       "    <tr>\n",
       "      <th>7</th>\n",
       "      <td>1</td>\n",
       "      <td>0</td>\n",
       "      <td>0</td>\n",
       "      <td>0</td>\n",
       "      <td>0</td>\n",
       "      <td>0</td>\n",
       "    </tr>\n",
       "    <tr>\n",
       "      <th>8</th>\n",
       "      <td>0</td>\n",
       "      <td>0</td>\n",
       "      <td>0</td>\n",
       "      <td>0</td>\n",
       "      <td>0</td>\n",
       "      <td>1</td>\n",
       "    </tr>\n",
       "    <tr>\n",
       "      <th>9</th>\n",
       "      <td>0</td>\n",
       "      <td>0</td>\n",
       "      <td>0</td>\n",
       "      <td>0</td>\n",
       "      <td>0</td>\n",
       "      <td>1</td>\n",
       "    </tr>\n",
       "    <tr>\n",
       "      <th>10</th>\n",
       "      <td>0</td>\n",
       "      <td>0</td>\n",
       "      <td>1</td>\n",
       "      <td>0</td>\n",
       "      <td>0</td>\n",
       "      <td>0</td>\n",
       "    </tr>\n",
       "    <tr>\n",
       "      <th>11</th>\n",
       "      <td>0</td>\n",
       "      <td>0</td>\n",
       "      <td>0</td>\n",
       "      <td>0</td>\n",
       "      <td>1</td>\n",
       "      <td>0</td>\n",
       "    </tr>\n",
       "    <tr>\n",
       "      <th>12</th>\n",
       "      <td>0</td>\n",
       "      <td>0</td>\n",
       "      <td>1</td>\n",
       "      <td>0</td>\n",
       "      <td>0</td>\n",
       "      <td>0</td>\n",
       "    </tr>\n",
       "    <tr>\n",
       "      <th>13</th>\n",
       "      <td>0</td>\n",
       "      <td>1</td>\n",
       "      <td>0</td>\n",
       "      <td>0</td>\n",
       "      <td>0</td>\n",
       "      <td>0</td>\n",
       "    </tr>\n",
       "    <tr>\n",
       "      <th>14</th>\n",
       "      <td>0</td>\n",
       "      <td>1</td>\n",
       "      <td>0</td>\n",
       "      <td>0</td>\n",
       "      <td>0</td>\n",
       "      <td>0</td>\n",
       "    </tr>\n",
       "    <tr>\n",
       "      <th>15</th>\n",
       "      <td>0</td>\n",
       "      <td>0</td>\n",
       "      <td>1</td>\n",
       "      <td>0</td>\n",
       "      <td>0</td>\n",
       "      <td>0</td>\n",
       "    </tr>\n",
       "  </tbody>\n",
       "</table>\n",
       "</div>"
      ],
      "text/plain": [
       "        Action  Comedy  Drama  Mysterious  Romantic  SciFi\n",
       "Id_no.                                                    \n",
       "1            1       0      0           0         0      0\n",
       "2            0       0      0           1         0      0\n",
       "3            1       0      0           0         0      0\n",
       "4            0       0      0           0         1      0\n",
       "5            1       0      0           0         0      0\n",
       "6            0       0      0           0         0      1\n",
       "7            1       0      0           0         0      0\n",
       "8            0       0      0           0         0      1\n",
       "9            0       0      0           0         0      1\n",
       "10           0       0      1           0         0      0\n",
       "11           0       0      0           0         1      0\n",
       "12           0       0      1           0         0      0\n",
       "13           0       1      0           0         0      0\n",
       "14           0       1      0           0         0      0\n",
       "15           0       0      1           0         0      0"
      ]
     },
     "execution_count": 40,
     "metadata": {},
     "output_type": "execute_result"
    }
   ],
   "source": [
    "movies['Genre'].str.get_dummies()"
   ]
  },
  {
   "cell_type": "code",
   "execution_count": 41,
   "id": "bdf3ea31-0f26-484b-9908-9a622c7486b7",
   "metadata": {},
   "outputs": [],
   "source": [
    "#names.str.index('e')"
   ]
  },
  {
   "cell_type": "code",
   "execution_count": 42,
   "id": "b0f0aa41-8b30-473e-8537-9af54ba15438",
   "metadata": {},
   "outputs": [
    {
     "data": {
      "text/plain": [
       "Id_no.\n",
       "1                               Bahubali\n",
       "2                             Brahmastra\n",
       "3        Un -Th--+-- Surgical Strik--+--\n",
       "4                                   DDLJ\n",
       "5        Av--+--ng--+--rs - End Gam--+--\n",
       "6                          T--+--n--+--t\n",
       "7                                  Major\n",
       "8               Int--+--rst--+--ll--+--r\n",
       "9                                Gravity\n",
       "10                               Titanic\n",
       "11    Y--+--h Jawani Hai D--+----+--wani\n",
       "12                         Hous--+--full\n",
       "13                      Th--+-- Dictator\n",
       "14                    H--+--ra Ph--+--ri\n",
       "15                                Sholay\n",
       "Name: Name, dtype: object"
      ]
     },
     "execution_count": 42,
     "metadata": {},
     "output_type": "execute_result"
    }
   ],
   "source": [
    "names.str.split('e').str.join('--+--')"
   ]
  },
  {
   "cell_type": "code",
   "execution_count": 43,
   "id": "15d31034-acef-4269-8fb0-7aba23dbeeb2",
   "metadata": {},
   "outputs": [
    {
     "data": {
      "text/plain": [
       "Id_no.\n",
       "1                                   B_a_h_u_b_a_l_i\n",
       "2                               B_r_a_h_m_a_s_t_r_a\n",
       "3     U_n_ _-_T_h_e_ _S_u_r_g_i_c_a_l_ _S_t_r_i_k_e\n",
       "4                                           D_D_L_J\n",
       "5             A_v_e_n_g_e_r_s_ _-_ _E_n_d_ _G_a_m_e\n",
       "6                                         T_e_n_e_t\n",
       "7                                         M_a_j_o_r\n",
       "8                           I_n_t_e_r_s_t_e_l_l_e_r\n",
       "9                                     G_r_a_v_i_t_y\n",
       "10                                    T_i_t_a_n_i_c\n",
       "11      Y_e_h_ _J_a_w_a_n_i_ _H_a_i_ _D_e_e_w_a_n_i\n",
       "12                                H_o_u_s_e_f_u_l_l\n",
       "13                          T_h_e_ _D_i_c_t_a_t_o_r\n",
       "14                              H_e_r_a_ _P_h_e_r_i\n",
       "15                                      S_h_o_l_a_y\n",
       "Name: Name, dtype: object"
      ]
     },
     "execution_count": 43,
     "metadata": {},
     "output_type": "execute_result"
    }
   ],
   "source": [
    "names.str.join('_')"
   ]
  },
  {
   "cell_type": "code",
   "execution_count": 44,
   "id": "482f30f9-14ae-47ee-b31f-f512568199e0",
   "metadata": {},
   "outputs": [
    {
     "data": {
      "text/plain": [
       "Id_no.\n",
       "1                    BAHUBALI\n",
       "2                  BRAHMASTRA\n",
       "3     UN -THE SURGICAL STRIKE\n",
       "4                        DDLJ\n",
       "5         AVENGERS - END GAME\n",
       "6                       TENET\n",
       "7                       MAJOR\n",
       "8                INTERSTELLER\n",
       "9                     GRAVITY\n",
       "10                    TITANIC\n",
       "11     YEH JAWANI HAI DEEWANI\n",
       "12                  HOUSEFULL\n",
       "13               THE DICTATOR\n",
       "14                 HERA PHERI\n",
       "15                     SHOLAY\n",
       "Name: Name, dtype: object"
      ]
     },
     "execution_count": 44,
     "metadata": {},
     "output_type": "execute_result"
    }
   ],
   "source": [
    "names.str.upper()"
   ]
  },
  {
   "cell_type": "code",
   "execution_count": 45,
   "id": "3330c9eb-84a9-4be5-aa80-a31e68330037",
   "metadata": {},
   "outputs": [
    {
     "data": {
      "text/plain": [
       "Id_no.\n",
       "1                    Bahubali\n",
       "2                  Brahmastra\n",
       "3     Un -The Surgical Strike\n",
       "4                        DDLJ\n",
       "5         Avengers - End Game\n",
       "6                       Tenet\n",
       "7                       Major\n",
       "8                Intersteller\n",
       "9                     Gravity\n",
       "10                    Titanic\n",
       "11     Yeh Jawani Hai Deewani\n",
       "12                  Housefull\n",
       "13               The Dictator\n",
       "14                 Hera Pheri\n",
       "15                     Sholay\n",
       "Name: Name, dtype: object"
      ]
     },
     "execution_count": 45,
     "metadata": {},
     "output_type": "execute_result"
    }
   ],
   "source": [
    "#strip() removes the free space befor or ending the string\n",
    "names.str.strip()"
   ]
  },
  {
   "cell_type": "code",
   "execution_count": 46,
   "id": "8bc0debe-c01d-4360-a360-3e8b679ff3ab",
   "metadata": {},
   "outputs": [
    {
     "data": {
      "text/plain": [
       "'SciFi'"
      ]
     },
     "execution_count": 46,
     "metadata": {},
     "output_type": "execute_result"
    }
   ],
   "source": [
    "movies['Genre'][movies['Name'].str.strip().str.lower()=='Intersteller'.lower()].values[0]"
   ]
  },
  {
   "cell_type": "markdown",
   "id": "69718a8c-088a-45c1-9238-e9aaec055c83",
   "metadata": {},
   "source": [
    "# 8 - Avg Rate of each industry"
   ]
  },
  {
   "cell_type": "code",
   "execution_count": 47,
   "id": "cf01e748-cbdb-411c-9b75-0db6630d76d9",
   "metadata": {},
   "outputs": [
    {
     "data": {
      "text/plain": [
       "Industry\n",
       "Bollywood    7.571429\n",
       "Hollywood    7.857143\n",
       "Tollywood    9.500000\n",
       "Name: Rating, dtype: float64"
      ]
     },
     "execution_count": 47,
     "metadata": {},
     "output_type": "execute_result"
    }
   ],
   "source": [
    "movies.groupby('Industry')['Rating'].mean()"
   ]
  },
  {
   "cell_type": "markdown",
   "id": "0ae16c62-bbf0-4895-b2d3-61a5204cfbe4",
   "metadata": {},
   "source": [
    "# 9 - Avg rating of romantic movies industry wise"
   ]
  },
  {
   "cell_type": "code",
   "execution_count": 48,
   "id": "d0c4a9bb-f395-4432-8982-6556b8add83a",
   "metadata": {},
   "outputs": [
    {
     "data": {
      "text/html": [
       "<div>\n",
       "<style scoped>\n",
       "    .dataframe tbody tr th:only-of-type {\n",
       "        vertical-align: middle;\n",
       "    }\n",
       "\n",
       "    .dataframe tbody tr th {\n",
       "        vertical-align: top;\n",
       "    }\n",
       "\n",
       "    .dataframe thead th {\n",
       "        text-align: right;\n",
       "    }\n",
       "</style>\n",
       "<table border=\"1\" class=\"dataframe\">\n",
       "  <thead>\n",
       "    <tr style=\"text-align: right;\">\n",
       "      <th></th>\n",
       "      <th>Name</th>\n",
       "      <th>Industry</th>\n",
       "      <th>Genre</th>\n",
       "      <th>Language</th>\n",
       "      <th>Duration</th>\n",
       "      <th>Rating</th>\n",
       "    </tr>\n",
       "    <tr>\n",
       "      <th>Id_no.</th>\n",
       "      <th></th>\n",
       "      <th></th>\n",
       "      <th></th>\n",
       "      <th></th>\n",
       "      <th></th>\n",
       "      <th></th>\n",
       "    </tr>\n",
       "  </thead>\n",
       "  <tbody>\n",
       "    <tr>\n",
       "      <th>4</th>\n",
       "      <td>DDLJ</td>\n",
       "      <td>Bollywood</td>\n",
       "      <td>Romantic</td>\n",
       "      <td>Hindi</td>\n",
       "      <td>150</td>\n",
       "      <td>10.0</td>\n",
       "    </tr>\n",
       "    <tr>\n",
       "      <th>11</th>\n",
       "      <td>Yeh Jawani Hai Deewani</td>\n",
       "      <td>Bollywood</td>\n",
       "      <td>Romantic</td>\n",
       "      <td>Hindi</td>\n",
       "      <td>150</td>\n",
       "      <td>5.0</td>\n",
       "    </tr>\n",
       "  </tbody>\n",
       "</table>\n",
       "</div>"
      ],
      "text/plain": [
       "                          Name   Industry     Genre Language  Duration  Rating\n",
       "Id_no.                                                                        \n",
       "4                         DDLJ  Bollywood  Romantic    Hindi       150    10.0\n",
       "11      Yeh Jawani Hai Deewani  Bollywood  Romantic    Hindi       150     5.0"
      ]
     },
     "execution_count": 48,
     "metadata": {},
     "output_type": "execute_result"
    }
   ],
   "source": [
    "movies[movies['Genre'].str.lower()=='romantic']"
   ]
  },
  {
   "cell_type": "code",
   "execution_count": 49,
   "id": "b369dfe6-e698-432a-9e8f-24e83bbaf4e7",
   "metadata": {},
   "outputs": [
    {
     "data": {
      "text/plain": [
       "Industry\n",
       "Bollywood    7.5\n",
       "Name: Rating, dtype: float64"
      ]
     },
     "execution_count": 49,
     "metadata": {},
     "output_type": "execute_result"
    }
   ],
   "source": [
    "movies[movies['Genre'].str.lower()=='romantic'].groupby('Industry')['Rating'].mean()"
   ]
  },
  {
   "cell_type": "markdown",
   "id": "1a359748-ded2-482a-baa7-5beaea3c5584",
   "metadata": {},
   "source": [
    "# 10 - list down all the english movies with their respective rating in desc order"
   ]
  },
  {
   "cell_type": "code",
   "execution_count": 54,
   "id": "b178cd6f-efd7-4a87-91f6-3f973194fbaa",
   "metadata": {},
   "outputs": [
    {
     "data": {
      "text/html": [
       "<div>\n",
       "<style scoped>\n",
       "    .dataframe tbody tr th:only-of-type {\n",
       "        vertical-align: middle;\n",
       "    }\n",
       "\n",
       "    .dataframe tbody tr th {\n",
       "        vertical-align: top;\n",
       "    }\n",
       "\n",
       "    .dataframe thead th {\n",
       "        text-align: right;\n",
       "    }\n",
       "</style>\n",
       "<table border=\"1\" class=\"dataframe\">\n",
       "  <thead>\n",
       "    <tr style=\"text-align: right;\">\n",
       "      <th></th>\n",
       "      <th>Name</th>\n",
       "      <th>Rating</th>\n",
       "    </tr>\n",
       "    <tr>\n",
       "      <th>Id_no.</th>\n",
       "      <th></th>\n",
       "      <th></th>\n",
       "    </tr>\n",
       "  </thead>\n",
       "  <tbody>\n",
       "    <tr>\n",
       "      <th>5</th>\n",
       "      <td>Avengers - End Game</td>\n",
       "      <td>9.0</td>\n",
       "    </tr>\n",
       "    <tr>\n",
       "      <th>10</th>\n",
       "      <td>Titanic</td>\n",
       "      <td>9.0</td>\n",
       "    </tr>\n",
       "    <tr>\n",
       "      <th>6</th>\n",
       "      <td>Tenet</td>\n",
       "      <td>8.5</td>\n",
       "    </tr>\n",
       "    <tr>\n",
       "      <th>8</th>\n",
       "      <td>Intersteller</td>\n",
       "      <td>7.0</td>\n",
       "    </tr>\n",
       "    <tr>\n",
       "      <th>13</th>\n",
       "      <td>The Dictator</td>\n",
       "      <td>7.0</td>\n",
       "    </tr>\n",
       "    <tr>\n",
       "      <th>9</th>\n",
       "      <td>Gravity</td>\n",
       "      <td>6.0</td>\n",
       "    </tr>\n",
       "  </tbody>\n",
       "</table>\n",
       "</div>"
      ],
      "text/plain": [
       "                       Name  Rating\n",
       "Id_no.                             \n",
       "5       Avengers - End Game     9.0\n",
       "10                  Titanic     9.0\n",
       "6                     Tenet     8.5\n",
       "8              Intersteller     7.0\n",
       "13             The Dictator     7.0\n",
       "9                   Gravity     6.0"
      ]
     },
     "execution_count": 54,
     "metadata": {},
     "output_type": "execute_result"
    }
   ],
   "source": [
    "movies[movies['Language']=='English'][['Name','Rating']].sort_values(by='Rating',ascending=False)"
   ]
  },
  {
   "cell_type": "code",
   "execution_count": 51,
   "id": "27a6e97e-4240-49b4-898e-21caa71ac31a",
   "metadata": {},
   "outputs": [],
   "source": [
    "#movies[movies['Language']=='English'][['Name','Rating']].sort_values(by='Rating',descending=True)\n",
    "#gives an error"
   ]
  },
  {
   "cell_type": "code",
   "execution_count": 53,
   "id": "175f74ee-da4c-4f7e-b3aa-a01d75429e50",
   "metadata": {},
   "outputs": [],
   "source": [
    "# kaggle.com\n",
    "# github.com"
   ]
  },
  {
   "cell_type": "code",
   "execution_count": 58,
   "id": "d671671d-fb4e-4345-bdcc-710f2de61c9e",
   "metadata": {},
   "outputs": [
    {
     "data": {
      "text/plain": [
       "Id_no.\n",
       "1     0\n",
       "2     0\n",
       "3     2\n",
       "4     0\n",
       "5     3\n",
       "6     2\n",
       "7     0\n",
       "8     3\n",
       "9     0\n",
       "10    0\n",
       "11    3\n",
       "12    1\n",
       "13    1\n",
       "14    2\n",
       "15    0\n",
       "Name: Name, dtype: int64"
      ]
     },
     "execution_count": 58,
     "metadata": {},
     "output_type": "execute_result"
    }
   ],
   "source": [
    "names.str.count('e')"
   ]
  },
  {
   "cell_type": "code",
   "execution_count": null,
   "id": "2edf802b-50d5-48f3-9600-232e7bbe6b00",
   "metadata": {},
   "outputs": [],
   "source": []
  }
 ],
 "metadata": {
  "kernelspec": {
   "display_name": "Python 3 (ipykernel)",
   "language": "python",
   "name": "python3"
  },
  "language_info": {
   "codemirror_mode": {
    "name": "ipython",
    "version": 3
   },
   "file_extension": ".py",
   "mimetype": "text/x-python",
   "name": "python",
   "nbconvert_exporter": "python",
   "pygments_lexer": "ipython3",
   "version": "3.9.12"
  }
 },
 "nbformat": 4,
 "nbformat_minor": 5
}
